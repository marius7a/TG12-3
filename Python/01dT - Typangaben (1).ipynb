{
  "cells": [
    {
      "cell_type": "markdown",
      "id": "7ff1521b",
      "metadata": {},
      "source": [
        "\n",
        "# Typangaben (Type Hints) in Python\n"
      ]
    },
    {
      "cell_type": "markdown",
      "id": "b58e92ab",
      "metadata": {},
      "source": [
        "\n",
        "## Was sind Typangaben?\n",
        "\n",
        "- **Type Hints** wurden mit [PEP 484](https://peps.python.org/pep-0484/) (Python Verbesserungsvorschläge) eingeführt und sind **Metadaten**: Sie beschreiben, welche Typen beabsichtigt sind.  \n",
        "- **Wichtig:** Python **erzwingt** diese Typen **nicht** automatisch zur Laufzeit.  \n",
        "- Nutzen:\n",
        "  - Bessere Lesbarkeit und Wartbarkeit.\n",
        "  - **Statische Analyse** findet Fehler früh (z. B. in VS Code/Pylance).\n",
        "  - Bessere Autovervollständigung in IDEs.\n",
        "\n",
        "**Merke:** „Grüner Check“ vom Type Checker garantiert keine richtige Logik – er minimiert nur eine Klasse von Fehlern.\n"
      ]
    },
    {
      "cell_type": "markdown",
      "id": "6734b74a",
      "metadata": {},
      "source": [
        "### Variablen"
      ]
    },
    {
      "cell_type": "code",
      "execution_count": null,
      "id": "40d973f9",
      "metadata": {},
      "outputs": [],
      "source": [
        "# This is how you declare the type of a variable\n",
        "age: int = 1\n",
        "\n",
        "# You don't need to initialize a variable to annotate it\n",
        "child: bool\n",
        "if age < 18:\n",
        "    child = True\n",
        "else:\n",
        "    child = False"
      ]
    },
    {
      "cell_type": "markdown",
      "id": "ca2d0d33",
      "metadata": {},
      "source": [
        "### Nützliche integrierte Typen"
      ]
    },
    {
      "cell_type": "code",
      "execution_count": 7,
      "id": "d24945d3",
      "metadata": {},
      "outputs": [
        {
          "name": "stdout",
          "output_type": "stream",
          "text": [
            "SOMETHING\n"
          ]
        }
      ],
      "source": [
        "# For most types, just use the name of the type in the annotation\n",
        "# Note that mypy can usually infer the type of a variable from its value,\n",
        "# so technically these annotations are redundant\n",
        "x: int = 1\n",
        "x: float = 1.0\n",
        "x: bool = True\n",
        "x: str = \"test\"\n",
        "x: bytes = b\"test\"\n",
        "\n",
        "# For collections on Python 3.9+, the type of the collection item is in brackets\n",
        "x: list[int] = [1]\n",
        "x: set[int] = {6, 7}\n",
        "\n",
        "# For mappings, we need the types of both keys and values\n",
        "x: dict[str, float] = {\"field\": 2.0}\n",
        "\n",
        "# For tuples of fixed size, we specify the types of all the elements\n",
        "x: tuple[int, str, float] = (3, \"yes\", 7.5)\n",
        "\n",
        "# For tuples of variable size, we use one type and ellipsis\n",
        "x: tuple[int, ...] = (1, 2, 3)\n",
        "\n",
        "# Use the | operator when something could be one of a few types\n",
        "x: list[int | str] = [3, 5, \"test\", \"fun\"]\n",
        "\n",
        "# Use X | None for a value that could be None\n",
        "x: str | None = \"something\" if 1 == 1 else None\n",
        "if x is not None:\n",
        "    print(x.upper())\n"
      ]
    },
    {
      "cell_type": "markdown",
      "id": "eea21e64",
      "metadata": {},
      "source": [
        "\n",
        "### Funktionen\n"
      ]
    },
    {
      "cell_type": "code",
      "execution_count": 8,
      "id": "c55238b4",
      "metadata": {},
      "outputs": [],
      "source": [
        "# This is how you annotate a function definition\n",
        "def stringify(num: int) -> str:\n",
        "    return str(num)\n",
        "\n",
        "# And here's how you specify multiple arguments\n",
        "def plus(num1: int, num2: int) -> int:\n",
        "    return num1 + num2\n",
        "\n",
        "# If a function does not return a value, use None as the return type\n",
        "# Default value for an argument goes after the type annotation\n",
        "def show(value: str, excitement: int = 10) -> None:\n",
        "    print(value + \"!\" * excitement)\n",
        "\n",
        "# Note that arguments without a type treated as Any\n",
        "# and that functions without any annotations are not checked\n",
        "def untyped(x):\n",
        "    x.anything() + 1 + \"string\"  # no errors\n"
      ]
    },
    {
      "cell_type": "markdown",
      "id": "ae876140",
      "metadata": {},
      "source": [
        "## <font color=red >Übung</font> "
      ]
    },
    {
      "cell_type": "markdown",
      "id": "7bdf861a",
      "metadata": {},
      "source": [
        "Fügen Sie sinnvolle Typangaben im folgenden Pythoncode hinzu."
      ]
    },
    {
      "cell_type": "code",
      "execution_count": null,
      "id": "c1688d6a",
      "metadata": {},
      "outputs": [],
      "source": [
        "from datetime import date\n",
        "\n",
        "class Auto:\n",
        "    __anzahl_autos: int= 0\n",
        "    __baujahr_max: int = 2025\n",
        "\n",
        "    def __init__(self, marke: str, baujahr: int) -> None:\n",
        "        if baujahr > Auto.__baujahr_max:\n",
        "            raise ValueError(\"Baujahr zu groß!\")\n",
        "        self.marke = marke\n",
        "        self.__baujahr: int= baujahr\n",
        "        Auto.__anzahl_autos += 1\n",
        "\n",
        "    @property\n",
        "    def baujahr(self) -> int:\n",
        "        return self.__baujahr\n",
        "\n",
        "    @property\n",
        "    def alter(self) -> int:\n",
        "        return date.today().year - self.__baujahr\n",
        "\n",
        "    @classmethod\n",
        "    def statistik(cls) -> int:\n",
        "        return f\"Es gibt {cls.__anzahl_autos} Autos.\"\n",
        "\n",
        "    @classmethod\n",
        "    def get_baujahr_max(cls) -> int:\n",
        "        return cls.__baujahr_max\n",
        "\n",
        "    @classmethod\n",
        "    def set_baujahr_max(cls, wert: int) -> None:\n",
        "        cls.__baujahr_max = wert\n",
        "\n",
        "    baujahr_max = property(get_baujahr_max, set_baujahr_max)"
      ]
    }
  ],
  "metadata": {
    "kernel_info": {
      "name": "python"
    },
    "kernelspec": {
      "display_name": "Pyolite (preview)",
      "language": "python",
      "name": "python"
    },
    "language_info": {
      "codemirror_mode": {
        "name": "python",
        "version": 3
      },
      "file_extension": ".py",
      "mimetype": "text/x-python",
      "name": "python",
      "nbconvert_exporter": "python",
      "pygments_lexer": "ipython3",
      "version": "3.8"
    },
    "nteract": {
      "version": "nteract-front-end@1.0.0"
    }
  },
  "nbformat": 4,
  "nbformat_minor": 5
}
