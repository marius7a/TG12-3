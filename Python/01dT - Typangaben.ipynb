{
  "cells": [
    {
      "cell_type": "markdown",
      "source": [
        "\n",
        "# Typangaben (Type Hints) in Python – eine praxisnahe Einführung\n",
        "\n",
        "\n",
        "## Lernziele\n",
        "- Verstehen, was Typangaben sind und **was sie nicht** sind (keine Laufzeit‑Erzwingung).\n",
        "- Typen korrekt **annotieren**: Variablen, Funktionen, Klassen (Attribute, Methoden).\n",
        "- Wichtige Bausteine aus `typing`: `Union`/`|`, `Optional`, `Literal`, `Annotated`, `Callable`, `Iterable`, `Mapping`, `Sequence`, `TypedDict`, `Protocol`, `TypeVar`/Generics, `Final`, `ClassVar`, `Self`.\n",
        "- Unterschiede zwischen **statischer Prüfung** (Pylance) und **Laufzeit**.\n",
        "- Typangaben in Klassen aus der Unterrichtseinheit **\"Klassen\"** anwenden.\n",
        "- In einer **umfangreichen Übung** ein kleines, gut typisiertes Modul entwickeln.\n"
      ],
      "metadata": {},
      "id": "7ff1521b"
    },
    {
      "cell_type": "markdown",
      "source": [
        "\n",
        "## 1) Was sind Typangaben?\n",
        "\n",
        "- **Type Hints** wurden mit [PEP 484] eingeführt und sind **Metadaten**: Sie beschreiben, welche Typen beabsichtigt sind.  \n",
        "- **Wichtig:** Python **erzwingt** diese Typen **nicht** automatisch zur Laufzeit.  \n",
        "- Nutzen:\n",
        "  - Bessere Lesbarkeit und Wartbarkeit.\n",
        "  - **Statische Analyse** findet Fehler früh (z. B. in VS Code/Pylance). \n",
        "  - Bessere Autovervollständigung in IDEs.\n",
        "\n",
        "**Merke:** „Grüner Check“ vom Type Checker garantiert keine richtige Logik – er minimiert nur eine Klasse von Fehlern.\n"
      ],
      "metadata": {},
      "id": "b58e92ab"
    },
    {
      "cell_type": "code",
      "source": [
        "# 2) Minimales Beispiel: Funktion mit Typangaben\n",
        "\n",
        "def add(a: int, b: int) -> int:\n",
        "    return a + b\n",
        "\n",
        "print(add(2, 3))\n",
        "# Type Checker würde warnen:\n",
        "# add(\"2\", 3)   # -> statischer Fehler (Argument 1: erwartet int, erhalten str)\n"
      ],
      "outputs": [
        {
          "output_type": "stream",
          "name": "stdout",
          "text": "5\n"
        }
      ],
      "execution_count": 1,
      "metadata": {},
      "id": "d24945d3"
    },
    {
      "cell_type": "markdown",
      "source": [
        "\n",
        "## 3) Typ-Syntax ab Python 3.10/3.11\n",
        "\n",
        "- `Union[int, str]` kann als `int | str` geschrieben werden.\n",
        "- `Optional[T]` ist Kurzform für `T | None`.\n",
        "- `list[int]`, `dict[str, int]` usw. (PEP 585: eingebaute generische Typen).\n",
        "- `from __future__ import annotations` ist **nicht mehr nötig** ab 3.11 für die meisten Fälle.\n",
        "\n",
        "### Variablen\n"
      ],
      "metadata": {},
      "id": "76f8ed5d"
    },
    {
      "cell_type": "code",
      "source": [
        "# Variablen annotieren\n",
        "name: str = \"Alice\"\n",
        "alter: int = 17\n",
        "pi: float = 3.14159\n",
        "werte: list[int] = [1, 2, 3]\n"
      ],
      "outputs": [],
      "execution_count": null,
      "metadata": {},
      "id": "a233f121"
    },
    {
      "cell_type": "markdown",
      "source": [
        "\n",
        "### Funktionen\n"
      ],
      "metadata": {},
      "id": "eea21e64"
    },
    {
      "cell_type": "code",
      "source": [
        "from collections.abc import Iterable\n",
        "\n",
        "def mittelwert(xs: Iterable[float]) -> float:\n",
        "    total = 0.0\n",
        "    n = 0\n",
        "    for x in xs:\n",
        "        total += x\n",
        "        n += 1\n",
        "    return total / n if n else float(\"nan\")\n",
        "\n",
        "print(mittelwert([1.0, 2.0, 3.0]))\n"
      ],
      "outputs": [],
      "execution_count": null,
      "metadata": {},
      "id": "c55238b4"
    },
    {
      "cell_type": "markdown",
      "source": [
        "\n",
        "### Klassen: Attribute, `Self`, `ClassVar`, `Final`\n"
      ],
      "metadata": {},
      "id": "343337bc"
    },
    {
      "cell_type": "code",
      "source": [
        "from dataclasses import dataclass\n",
        "from typing import ClassVar, Final, Self\n",
        "\n",
        "@dataclass\n",
        "class Konto:\n",
        "    inhaber: str\n",
        "    _saldo: float = 0.0\n",
        "\n",
        "    # Klassenkonstanten / -attribute\n",
        "    waehrung: ClassVar[str] = \"EUR\"\n",
        "    kontoart: Final[str] = \"Giro\"  # pro Instanz „finale“ Konstante\n",
        "\n",
        "    def einzahlen(self, betrag: float) -> Self:\n",
        "        self._saldo += betrag\n",
        "        return self\n",
        "\n",
        "    def abheben(self, betrag: float) -> Self:\n",
        "        if betrag > self._saldo:\n",
        "            raise ValueError(\"Zu wenig Guthaben.\")\n",
        "        self._saldo -= betrag\n",
        "        return self\n",
        "\n",
        "    @property\n",
        "    def saldo(self) -> float:\n",
        "        return self._saldo\n",
        "\n",
        "k = Konto(\"Kim\").einzahlen(100).abheben(40)\n",
        "print(k.saldo, Konto.waehrung, k.kontoart)\n"
      ],
      "outputs": [],
      "execution_count": null,
      "metadata": {},
      "id": "5feebb9b"
    },
    {
      "cell_type": "markdown",
      "source": [
        "\n",
        "## 4) Wichtige `typing`-Bausteine im Überblick\n",
        "\n",
        "### `Union` / `|` und `Optional`\n"
      ],
      "metadata": {},
      "id": "732b1405"
    },
    {
      "cell_type": "code",
      "source": [
        "from typing import Optional\n",
        "\n",
        "def parse_int(s: str | None) -> Optional[int]:\n",
        "    if s is None:\n",
        "        return None\n",
        "    try:\n",
        "        return int(s)\n",
        "    except ValueError:\n",
        "        return None\n",
        "\n",
        "print(parse_int(\"12\"), parse_int(\"x\"), parse_int(None))\n"
      ],
      "outputs": [],
      "execution_count": null,
      "metadata": {},
      "id": "d6fbffbe"
    },
    {
      "cell_type": "markdown",
      "source": [
        "\n",
        "### `Literal` – feste Werte\n"
      ],
      "metadata": {},
      "id": "33fd6f6d"
    },
    {
      "cell_type": "code",
      "source": [
        "from typing import Literal\n",
        "\n",
        "def schalter(status: Literal[\"on\", \"off\"]) -> bool:\n",
        "    return status == \"on\"\n",
        "\n",
        "print(schalter(\"on\"))\n",
        "# schalter(\"maybe\")  # -> statischer Fehler\n"
      ],
      "outputs": [],
      "execution_count": null,
      "metadata": {},
      "id": "c213371c"
    },
    {
      "cell_type": "markdown",
      "source": [
        "\n",
        "### `Annotated` – Typ + Zusatzinfo (z. B. für Validierung/Docs)\n"
      ],
      "metadata": {},
      "id": "54d5ec60"
    },
    {
      "cell_type": "code",
      "source": [
        "from typing import Annotated\n",
        "\n",
        "PositiveInt = Annotated[int, \"x > 0\"]\n",
        "\n",
        "def wurzel(x: PositiveInt) -> float:\n",
        "    if x <= 0:\n",
        "        raise ValueError(\"x muss > 0 sein\")\n",
        "    return x ** 0.5\n",
        "\n",
        "print(wurzel(16))\n"
      ],
      "outputs": [],
      "execution_count": null,
      "metadata": {},
      "id": "ecef1146"
    },
    {
      "cell_type": "markdown",
      "source": [
        "\n",
        "### `Callable` – Funktionssignaturen als Typ\n"
      ],
      "metadata": {},
      "id": "3e230784"
    },
    {
      "cell_type": "code",
      "source": [
        "from collections.abc import Callable\n",
        "\n",
        "def anwenden(x: int, f: Callable[[int], int]) -> int:\n",
        "    return f(x)\n",
        "\n",
        "print(anwenden(5, lambda n: n * 2))\n"
      ],
      "outputs": [],
      "execution_count": null,
      "metadata": {},
      "id": "d771a81d"
    },
    {
      "cell_type": "markdown",
      "source": [
        "\n",
        "### `TypedDict` & `NamedTuple` – strukturierte, „leichte“ Typen\n"
      ],
      "metadata": {},
      "id": "d737eff4"
    },
    {
      "cell_type": "code",
      "source": [
        "from typing import TypedDict, NotRequired\n",
        "\n",
        "class Student(TypedDict):\n",
        "    name: str\n",
        "    klasse: str\n",
        "    email: NotRequired[str]\n",
        "\n",
        "s: Student = {\"name\": \"Mina\", \"klasse\": \"TGI\"}\n",
        "print(s)\n"
      ],
      "outputs": [],
      "execution_count": null,
      "metadata": {},
      "id": "547352c6"
    },
    {
      "cell_type": "markdown",
      "source": [
        "\n",
        "### `Protocol` – strukturelle Typen (Duck Typing mit Verträgen)\n"
      ],
      "metadata": {},
      "id": "7f664eb3"
    },
    {
      "cell_type": "code",
      "source": [
        "from typing import Protocol\n",
        "\n",
        "class HatFlaeche(Protocol):\n",
        "    def flaeche(self) -> float: ...\n",
        "\n",
        "class Rechteck:\n",
        "    def __init__(self, b: float, h: float):\n",
        "        self.b = b; self.h = h\n",
        "    def flaeche(self) -> float:\n",
        "        return self.b * self.h\n",
        "\n",
        "class Kreis:\n",
        "    def __init__(self, r: float):\n",
        "        self.r = r\n",
        "    def flaeche(self) -> float:\n",
        "        from math import pi\n",
        "        return pi * self.r * self.r\n",
        "\n",
        "def gesamtflaeche(figuren: list[HatFlaeche]) -> float:\n",
        "    return sum(f.flaeche() for f in figuren)\n",
        "\n",
        "print(gesamtflaeche([Rechteck(2,3), Kreis(1)]))\n"
      ],
      "outputs": [],
      "execution_count": null,
      "metadata": {},
      "id": "281260da"
    },
    {
      "cell_type": "markdown",
      "source": [
        "\n",
        "### Generics mit `TypeVar`, `Generic`, `Self`\n"
      ],
      "metadata": {},
      "id": "eae29378"
    },
    {
      "cell_type": "code",
      "source": [
        "from typing import TypeVar, Generic\n",
        "\n",
        "T = TypeVar(\"T\")\n",
        "\n",
        "class Stapel(Generic[T]):\n",
        "    def __init__(self) -> None:\n",
        "        self._data: list[T] = []\n",
        "    def push(self, x: T) -> None:\n",
        "        self._data.append(x)\n",
        "    def pop(self) -> T:\n",
        "        return self._data.pop()\n",
        "    def __repr__(self) -> str:\n",
        "        return f\"Stapel({self._data!r})\"\n",
        "\n",
        "ints = Stapel[int]()\n",
        "ints.push(1)\n",
        "ints.push(2)\n",
        "print(ints.pop())\n"
      ],
      "outputs": [],
      "execution_count": null,
      "metadata": {},
      "id": "d836daef"
    },
    {
      "cell_type": "markdown",
      "source": [
        "\n",
        "### `NewType` und `TypeAlias` – semantisch stärkere Typen\n"
      ],
      "metadata": {},
      "id": "c616613e"
    },
    {
      "cell_type": "code",
      "source": [
        "from typing import NewType, TypeAlias\n",
        "\n",
        "UserId = NewType(\"UserId\", int)\n",
        "Primzahl: TypeAlias = int\n",
        "\n",
        "uid = UserId(42)\n",
        "zahl: Primzahl = 7\n",
        "print(uid, zahl)\n"
      ],
      "outputs": [],
      "execution_count": null,
      "metadata": {},
      "id": "5318fe5f"
    },
    {
      "cell_type": "markdown",
      "source": [
        "\n",
        "## 5) Statische Prüfung vs. Laufzeit\n",
        "\n",
        "- **Statische Checker** (z. B. *mypy*, *pyright* in VS Code, *ruff*) analysieren Quelltext **ohne** ihn auszuführen.\n",
        "- Zur **Laufzeit** sind Type Hints meist nur Metadaten; sie können mit `typing.get_type_hints` gelesen werden.\n",
        "- Wenn echte Laufzeit-Prüfung gewünscht ist, nutzt man Validierungsbibliotheken (z. B. `pydantic`) oder schreibt Checks selbst.\n"
      ],
      "metadata": {},
      "id": "cfb0965d"
    },
    {
      "cell_type": "code",
      "source": [
        "# Laufzeit: Type Hints inspizieren\n",
        "from typing import get_type_hints\n",
        "\n",
        "print(get_type_hints(mittelwert))\n"
      ],
      "outputs": [],
      "execution_count": null,
      "metadata": {},
      "id": "461e2702"
    },
    {
      "cell_type": "markdown",
      "source": [
        "\n",
        "### mypy/pyright/ruff kurz & knapp\n",
        "\n",
        "- **VS Code**: Python-Extension + *Pylance* (pyright) aktivieren.  \n",
        "- **CLI**:  \n",
        "  - `pip install mypy` → `mypy pfad/zum/projekt`\n",
        "  - `pip install ruff` → `ruff check --select TCH,ANN .` (Regeln für Typen)\n",
        "- **Konfig**: `mypy.ini`, `pyproject.toml` oder `ruff.toml` verwenden.\n"
      ],
      "metadata": {},
      "id": "d0380849"
    },
    {
      "cell_type": "markdown",
      "source": [
        "\n",
        "## 6) Typangaben in Klassen (Bezug zur Datei *„Klassen“*)\n",
        "\n",
        "- **Attribute** in `__init__` sollten **annotiert** werden (oder `@dataclass` verwenden).\n",
        "- **Abgeleitete Eigenschaften** (`@property`) erhalten ebenfalls Rückgabetypen.\n",
        "- **Klassenattribute** mit `ClassVar[T]` kennzeichnen.\n",
        "- **Konstanten** mit `Final[T]` markieren.\n",
        "- Methoden, die die Instanz **zurückgeben**, mit `Self` typisieren (fluenter Stil).\n"
      ],
      "metadata": {},
      "id": "99089495"
    },
    {
      "cell_type": "code",
      "source": [
        "# Beispiel „Auto“ – kompakt, ohne Typinfos im Code überladen zu lassen\n",
        "from dataclasses import dataclass\n",
        "from datetime import date\n",
        "from typing import ClassVar, Final\n",
        "\n",
        "@dataclass\n",
        "class Auto:\n",
        "    marke: str\n",
        "    _baujahr: int  # „privat“ per Konvention\n",
        "\n",
        "    # Klasseninfo & (quasi) Konstante\n",
        "    fahrzeugart: ClassVar[str] = \"PKW\"\n",
        "    max_alter: Final[int] = 50\n",
        "\n",
        "    @property\n",
        "    def baujahr(self) -> int:\n",
        "        return self._baujahr\n",
        "\n",
        "    @property\n",
        "    def alter(self) -> int:\n",
        "        return date.today().year - self._baujahr\n",
        "\n",
        "car = Auto(\"Opel\", 2018)\n",
        "print(car.alter, Auto.fahrzeugart)\n"
      ],
      "outputs": [],
      "execution_count": null,
      "metadata": {},
      "id": "ae876140"
    },
    {
      "cell_type": "markdown",
      "source": [
        "\n",
        "---\n",
        "\n",
        "## 7) Übungsaufgabe (umfangreich): **„Kursverwaltung mit Typen“**\n",
        "\n",
        "### Aufgabe\n",
        "Entwickeln Sie ein **kleines, typisiertes Modul** für eine Kursverwaltung. Ziel ist, dass ein Type Checker (mypy/pyright) **keine Fehler** meldet.\n",
        "\n",
        "### Anforderungen\n",
        "1. **Datenmodell**\n",
        "   - Definieren Sie `Student` als `TypedDict` mit Feldern: `id: int`, `name: str`, `email: NotRequired[str]`.\n",
        "   - Definieren Sie `Kurs` als `dataclass` mit Feldern: `titel: str`, `ects: int`, `teilnehmer: list[Student]`.\n",
        "   - Definieren Sie `KursId = NewType(\"KursId\", int)`.\n",
        "\n",
        "2. **Funktionen**\n",
        "   - `anmelden(kurs: Kurs, student: Student) -> None` (verhindert Duplikate anhand `id`).\n",
        "\n",
        "   - `finde_student(kurs: Kurs, sid: int) -> Student | None`.\n",
        "\n",
        "   - `schnitt_note(notenschluessel: Mapping[str, float], noten: Iterable[str]) -> float` – benutze `Mapping`, `Iterable`.\n",
        "\n",
        "3. **Protokoll**\n",
        "   - Definieren Sie ein `Protocol` `Bewertbar` mit Methode `note() -> float`.\n",
        "   - Erstellen Sie zwei Klassen, die `Bewertbar` erfüllen (z. B. `Klausur`, `Projekt`).\n",
        "\n",
        "4. **Generics**\n",
        "   - Implementieren Sie eine generische `Stapel[T]`-Klasse (oder nutzen Sie die aus dem Beispiel) und zeigen Sie ihre Verwendung mit `Student` und `KursId`.\n",
        "\n",
        "5. **Konstanten & Klassenattribute**\n",
        "   - Kennzeichnen Sie sinnvolle Dinge mit `Final` und `ClassVar`.\n",
        "\n",
        "6. **Dokumentation**\n",
        "   - Schreiben Sie zu jeder öffentlichen Funktion eine kurze Docstring mit Typ‑Hinweis.\n",
        "\n",
        "7. **Bonus (optional)**\n",
        "   - Nutzen Sie `Annotated` für Zusatzinfos (z. B. zulässige Bereiche), oder `Literal` für erlaubte Statuswerte (\"aktiv\" | \"inaktiv\").\n",
        "\n",
        "### Abgabekriterien\n",
        "- Code **läuft** ohne Fehler.\n",
        "- **Type Checker** meldet **0** Fehler.\n",
        "- Kurze **Tests/Demos** im Notebook vorhanden.\n"
      ],
      "metadata": {},
      "id": "8198c06b"
    },
    {
      "cell_type": "markdown",
      "source": [
        "\n",
        "### Starter-Code (zum Ausfüllen)\n"
      ],
      "metadata": {},
      "id": "771546c2"
    },
    {
      "cell_type": "code",
      "source": [
        "# === Ihre Lösung hier entwickeln ===\n",
        "from __future__ import annotations\n",
        "from dataclasses import dataclass\n",
        "from typing import NotRequired, TypedDict, NewType, Protocol\n",
        "from typing import Mapping, Iterable, Final, ClassVar, TypeVar, Generic\n",
        "\n",
        "# 1) Datenmodell ------------------------------------------------------------\n",
        "class Student(TypedDict):\n",
        "    id: int\n",
        "    name: str\n",
        "    email: NotRequired[str]\n",
        "\n",
        "@dataclass\n",
        "class Kurs:\n",
        "    titel: str\n",
        "    ects: int\n",
        "    teilnehmer: list[Student]\n",
        "\n",
        "KursId = NewType(\"KursId\", int)\n",
        "\n",
        "# 2) Funktionen -------------------------------------------------------------\n",
        "# TODO: anmelden(kurs, student) -> None\n",
        "# TODO: finde_student(kurs, sid) -> Student | None\n",
        "# TODO: schnitt_note(notenschluessel, noten) -> float\n",
        "\n",
        "# 3) Protokoll --------------------------------------------------------------\n",
        "class Bewertbar(Protocol):\n",
        "    def note(self) -> float: ...\n",
        "\n",
        "# TODO: Klassen, die Bewertbar erfüllen (z. B. Klausur, Projekt)\n",
        "\n",
        "# 4) Generics ---------------------------------------------------------------\n",
        "T = TypeVar(\"T\")\n",
        "# TODO: generische Stapel[T]\n",
        "\n",
        "# 5) Konstanten & Klassenattribute -----------------------------------------\n",
        "# TODO: sinnvolle Final / ClassVar verwenden\n",
        "\n",
        "# 6) Kurze Demos/Tests ------------------------------------------------------\n",
        "# TODO: ein paar Beispiele aufrufen/ausgeben\n"
      ],
      "outputs": [],
      "execution_count": null,
      "metadata": {},
      "id": "c0431565"
    },
    {
      "cell_type": "markdown",
      "source": [
        "\n",
        "> **Tipp für die Klasse „Klassen“:** Übertragen Sie die hier gezeigten Muster auf Ihre vorhandenen Klassendateien. Achten Sie auf:\n",
        "> - Typen für Attribute und Rückgabewerte\n",
        "> - `property`-Rückgabetypen\n",
        "> - `Self` für Methoden, die die Instanz zurückgeben\n",
        "> - `ClassVar` und `Final` korrekt einsetzen\n"
      ],
      "metadata": {},
      "id": "1b921ff2"
    },
    {
      "cell_type": "markdown",
      "source": [
        "\n",
        "---\n",
        "\n",
        "## 8) (Optional) Musterlösung – zum Vergleichen\n",
        "\n",
        "> **Hinweis:** Eine mögliche Lösung – Ihre darf abweichen, solange der Type Checker zufrieden ist und die Funktionalität stimmt.\n"
      ],
      "metadata": {},
      "id": "232c0fdf"
    },
    {
      "cell_type": "code",
      "source": [
        "from __future__ import annotations\n",
        "from dataclasses import dataclass\n",
        "from typing import NotRequired, TypedDict, NewType, Protocol\n",
        "from typing import Mapping, Iterable, Final, ClassVar, TypeVar, Generic\n",
        "\n",
        "class Student(TypedDict):\n",
        "    id: int\n",
        "    name: str\n",
        "    email: NotRequired[str]\n",
        "\n",
        "@dataclass\n",
        "class Kurs:\n",
        "    titel: str\n",
        "    ects: int\n",
        "    teilnehmer: list[Student]\n",
        "\n",
        "    # Beispiel für ClassVar (z. B. Standard‑Maximalgröße eines Kurses)\n",
        "    STANDARD_MAX: ClassVar[int] = 30\n",
        "\n",
        "KursId = NewType(\"KursId\", int)\n",
        "\n",
        "# --- Funktionen ---\n",
        "def anmelden(kurs: Kurs, student: Student) -> None:\n",
        "    \"\"\"Fügt *student* zu *kurs* hinzu, wenn die id noch nicht vorhanden ist.\"\"\"\n",
        "    if any(s[\"id\"] == student[\"id\"] for s in kurs.teilnehmer):\n",
        "        return\n",
        "    kurs.teilnehmer.append(student)\n",
        "\n",
        "def finde_student(kurs: Kurs, sid: int) -> Student | None:\n",
        "    \"\"\"Sucht einen Student per *sid*.\"\"\"\n",
        "    for s in kurs.teilnehmer:\n",
        "        if s[\"id\"] == sid:\n",
        "            return s\n",
        "    return None\n",
        "\n",
        "def schnitt_note(notenschluessel: Mapping[str, float], noten: Iterable[str]) -> float:\n",
        "    \"\"\"Berechnet den Notenschnitt aus Notencodes gemäß *notenschluessel*.\"\"\"\n",
        "    werte: list[float] = []\n",
        "    for n in noten:\n",
        "        if n in notenschluessel:\n",
        "            werte.append(notenschluessel[n])\n",
        "    return sum(werte) / len(werte) if werte else float(\"nan\")\n",
        "\n",
        "# --- Protocol ---\n",
        "class Bewertbar(Protocol):\n",
        "    def note(self) -> float: ...\n",
        "\n",
        "@dataclass\n",
        "class Klausur:\n",
        "    punkte: int\n",
        "    MAX_PUNKTE: ClassVar[int] = 100\n",
        "    BONUS: Final[int] = 0\n",
        "\n",
        "    def note(self) -> float:\n",
        "        prozent = self.punkte / self.MAX_PUNKTE\n",
        "        return 1.0 + (1.0 - prozent) * 4.0  # 1.0..5.0\n",
        "\n",
        "@dataclass\n",
        "class Projekt:\n",
        "    bewertungen: list[float]  # 1.0..6.0\n",
        "\n",
        "    def note(self) -> float:\n",
        "        return sum(self.bewertungen) / len(self.bewertungen)\n",
        "\n",
        "# --- Generics ---\n",
        "T = TypeVar(\"T\")\n",
        "\n",
        "class Stapel(Generic[T]):\n",
        "    def __init__(self) -> None:\n",
        "        self._data: list[T] = []\n",
        "    def push(self, x: T) -> None:\n",
        "        self._data.append(x)\n",
        "    def pop(self) -> T:\n",
        "        return self._data.pop()\n",
        "    def __len__(self) -> int:  # nützlich für Tests\n",
        "        return len(self._data)\n",
        "\n",
        "# --- Demo ---\n",
        "notenschluessel = {\"A\": 1.0, \"B\": 2.0, \"C\": 3.0, \"D\": 4.0, \"E\": 5.0}\n",
        "\n",
        "k = Kurs(\"Informatik\", 6, [])\n",
        "anna: Student = {\"id\": 1, \"name\": \"Anna\"}\n",
        "ben: Student = {\"id\": 2, \"name\": \"Ben\", \"email\": \"ben@example.com\"}\n",
        "\n",
        "anmelden(k, anna)\n",
        "anmelden(k, ben)\n",
        "anmelden(k, anna)  # Duplikat wird ignoriert\n",
        "\n",
        "print(f\"Teilnehmer: {[s['name'] for s in k.teilnehmer]}\")\n",
        "print(\"Anna?\", finde_student(k, 1))\n",
        "print(\"Schnitt ABC:\", schnitt_note(notenschluessel, [\"A\", \"B\", \"C\"]))\n",
        "\n",
        "# Protocol-Demo\n",
        "b1: list[Bewertbar] = [Klausur(80), Projekt([1.3, 1.7, 2.0])]\n",
        "print(\"Noten:\", [b.note() for b in b1])\n",
        "\n",
        "# Generics-Demo\n",
        "stack_ids = Stapel[KursId]()\n",
        "stack_ids.push(KursId(10))\n",
        "stack_ids.push(KursId(11))\n",
        "print(\"Stack len:\", len(stack_ids))\n"
      ],
      "outputs": [],
      "execution_count": null,
      "metadata": {},
      "id": "3e39ea6b"
    },
    {
      "cell_type": "markdown",
      "source": [
        "\n",
        "---\n",
        "\n",
        "## 9) Checkliste & Best Practices\n",
        "\n",
        "- Schreibe **Rückgabetypen** (auch `-> None`).\n",
        "- Nutze **abstrakte** Collection-Typen (`Iterable`, `Mapping`, `Sequence`) für **generische** APIs.\n",
        "- Markiere **Konstanten** mit `Final`, **Klassenattribute** mit `ClassVar`.\n",
        "- Für **Fluent APIs** `Self` nutzen.\n",
        "- **Keine** „magischen“ `Any` – so spezifisch typisieren wie sinnvoll.\n",
        "- **Type Checker** regelmäßig laufen lassen (CI/Pre-commit).\n",
        "\n",
        "Viel Erfolg! 🚀\n"
      ],
      "metadata": {},
      "id": "2827f7d5"
    }
  ],
  "metadata": {
    "kernelspec": {
      "name": "python",
      "language": "python",
      "display_name": "Pyolite (preview)"
    },
    "language_info": {
      "codemirror_mode": {
        "name": "python",
        "version": 3
      },
      "file_extension": ".py",
      "mimetype": "text/x-python",
      "name": "python",
      "nbconvert_exporter": "python",
      "pygments_lexer": "ipython3",
      "version": "3.8"
    },
    "kernel_info": {
      "name": "python"
    },
    "nteract": {
      "version": "nteract-front-end@1.0.0"
    }
  },
  "nbformat": 4,
  "nbformat_minor": 5
}