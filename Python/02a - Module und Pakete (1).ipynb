{
  "cells": [
    {
      "cell_type": "markdown",
      "source": [
        "\n",
        "# Module & Packages in Python"
      ],
      "metadata": {},
      "id": "5176fbd7"
    },
    {
      "cell_type": "markdown",
      "source": [
        "\n",
        "## Module vs. Packages\n",
        "\n",
        "Jede Python-Datei (`.py`) mit Funktionen, Klassen und Konstanten ist ein **Modul**. Beispiel: `math.py` ist ein eingebautes Modul (dass in C geschrieben und eingebunden ist).\n",
        "\n",
        "Ein **Ordner** mit (Unter‑)Modulen ist ein **Paket**.Im Ordner muss eine leere Datei mit Namen `__init__.py` enthalten sein. Beispiel: `numpy` ist ein Package mit vielen Untermodulen.\n",
        "\n",
        "## Import-Formen\n",
        "Python sucht Module/Pakete auf dem sog. **Modulpfad** (aktuelles Verzeichnis, installierte Pakete, Standardbibliothek, …)."
      ],
      "metadata": {},
      "id": "eb1816a9"
    },
    {
      "cell_type": "code",
      "source": [
        "import math                   # volles Modul\n",
        "import math as m              # Modul mit alternativem Namen\n",
        "from math import sqrt, pi     # Direktimport der benötigten Methoden\n",
        "from math import *            # Nicht empfohlen (Namespace-Verschmutzung)"
      ],
      "outputs": [],
      "execution_count": 1,
      "metadata": {},
      "id": "45c030e6"
    },
    {
      "cell_type": "markdown",
      "source": [
        "**Empfehlung:** Die Importwege `import math` oder `from math import sqrt, pi` empfinden viele Programmierer als übersichtlich.\n"
      ],
      "metadata": {},
      "id": "6cea4af1"
    },
    {
      "cell_type": "markdown",
      "source": [
        "## <font color=red >Übung</font> \n",
        "Berechne die Wurzel von 25 und verwende die Methode `sqrt` über drei verschiedene Importwege."
      ],
      "metadata": {},
      "id": "34c03f95"
    },
    {
      "cell_type": "code",
      "source": [],
      "outputs": [],
      "execution_count": null,
      "metadata": {},
      "id": "0c2e3177"
    },
    {
      "cell_type": "markdown",
      "source": [
        "\n",
        "### Dokumentation von Modulen und Paketen\n",
        "Die Pakete `math`und `random`kommen häufig zum Einsatz.\n",
        "- https://docs.python.org/3.13/library/math.html\n",
        "- https://docs.python.org/3.13/library/random.html\n"
      ],
      "metadata": {},
      "id": "9e4998db"
    }
  ],
  "metadata": {
    "kernelspec": {
      "name": "python",
      "language": "python",
      "display_name": "Pyolite (preview)"
    },
    "language_info": {
      "codemirror_mode": {
        "name": "python",
        "version": 3
      },
      "file_extension": ".py",
      "mimetype": "text/x-python",
      "name": "python",
      "nbconvert_exporter": "python",
      "pygments_lexer": "ipython3",
      "version": "3.8"
    },
    "kernel_info": {
      "name": "python"
    },
    "nteract": {
      "version": "nteract-front-end@1.0.0"
    }
  },
  "nbformat": 4,
  "nbformat_minor": 5
}