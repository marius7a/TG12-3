{
 "cells": [
  {
   "cell_type": "markdown",
   "id": "12336aa6",
   "metadata": {},
   "source": [
    "## Wie werden Daten zwischen Client und Server mit JSON übertragen?\n",
    "\n",
    "In modernen Webanwendungen ist **JSON das Standardformat**, um Daten zwischen Client (z. B. Webbrowser) und Server auszutauschen.\n",
    "\n",
    "**Typischer Ablauf:**\n",
    "1. Der **Client** sendet eine Anfrage an den Server.\n",
    "2. Die Anfrage kann JSON-Daten enthalten.\n",
    "3. Der **Server** und gibt eine Antwort zurück – meist ebenfalls im JSON-Format.\n",
    "\n",
    "**Beispiel (Client sendet JSON via POST):**\n",
    "```python\n",
    "# Client-seitig mit Python (z. B. über requests)\n",
    "import requests\n",
    "\n",
    "daten = {\"benutzer\": \"Max\", \"nachricht\": \"Hallo Welt\"}\n",
    "antwort = requests.post(\"http://localhost:5000/api\", json=daten)\n",
    "print(antwort.json())\n",
    "```\n",
    "\n",
    "**Beispiel (Server empfängt JSON):**\n",
    "```python\n",
    "# Server-seitig mit Flask\n",
    "from flask import request\n",
    "\n",
    "@app.route('/api', methods=['POST'])\n",
    "def empfange_json():\n",
    "    daten = request.get_json()\n",
    "    print(daten)  # z. B. {'benutzer': 'Max', 'nachricht': 'Hallo Welt'}\n",
    "    return jsonify({\"status\": \"erhalten\"})\n",
    "```\n",
    "\n",
    "Auf diese Weise erfolgt eine strukturierte, standardisierte und plattformunabhängige Kommunikation über das Internet."
   ]
  },
  {
   "cell_type": "markdown",
   "metadata": {},
   "source": [
    "## Was ist JSON?\n",
    "\n",
    "JSON steht für **JavaScript Object Notation** und ist ein weit verbreitetes Format zum Austausch von Daten.\n",
    "Es ist leichtgewichtig, menschenlesbar und lässt sich in vielen Programmiersprachen – auch in Python – einfach verarbeiten.\n",
    "\n",
    "Ein Beispiel für eine JSON-Struktur:\n",
    "```json\n",
    "{\n",
    "  \"name\": \"Anna\",\n",
    "  \"alter\": 17,\n",
    "  \"fächer\": [\"Mathematik\", \"Informatik\"]\n",
    "}\n",
    "```"
   ]
  },
  {
   "cell_type": "markdown",
   "id": "6dad255b",
   "metadata": {},
   "source": [
    "# JSON in Python und Flask\n",
    "\n",
    "In diesem Notebook lernst du:\n",
    "- Was JSON ist\n",
    "- Wie man JSON in Python verarbeitet\n",
    "- Wie das `jsonify`-Modul aus dem Flask-Framework verwendet wird"
   ]
  },
  {
   "cell_type": "markdown",
   "metadata": {},
   "source": [
    "## JSON mit Python\n",
    "\n",
    "Python bietet das eingebaute `json`-Modul zur Verarbeitung von JSON-Daten:"
   ]
  },
  {
   "cell_type": "code",
   "execution_count": null,
   "id": "12e32715",
   "metadata": {},
   "outputs": [],
   "source": [
    "import json\n",
    "\n",
    "# Python-Datenstruktur\n",
    "daten = {\n",
    "    \"name\": \"Max\",\n",
    "    \"alter\": 18,\n",
    "    \"fächer\": [\"Physik\", \"Informatik\"]\n",
    "}\n",
    "\n",
    "# In JSON umwandeln\n",
    "json_string = json.dumps(daten, indent=2, ensure_ascii=False)\n",
    "print(json_string)\n",
    "\n",
    "# Aus JSON zurück in Python\n",
    "python_objekt = json.loads(json_string)\n",
    "\n",
    "# TODO gebe den Typ der Variablen python_objekt aus\n",
    "\n",
    "# TODO gebe Namen und Alter aus\n",
    "\n",
    "# TODO gebe den Typ von Fächer aus\n",
    "\n",
    "# TODO gebe die Fächer aus\n"
   ]
  },
  {
   "cell_type": "markdown",
   "id": "1e227d39",
   "metadata": {},
   "source": [
    "## JSON mit Flask und `jsonify`\n",
    "\n",
    "Wenn man mit Flask Webanwendungen entwickelt, nutzt man häufig das Modul `jsonify`, um Daten als JSON an Clients zu senden. Das Modul sorgt dafür, dass die Ausgabe korrekt formatiert und der passende MIME-Typ (`application/json`) gesetzt wird."
   ]
  },
  {
   "cell_type": "code",
   "execution_count": null,
   "id": "a5eca1df",
   "metadata": {},
   "outputs": [],
   "source": [
    "from flask import Flask, jsonify\n",
    "\n",
    "app = Flask(__name__)\n",
    "\n",
    "@app.route('/daten')\n",
    "def daten_als_json():\n",
    "    daten = {\n",
    "        \"name\": \"Lena\",\n",
    "        \"alter\": 19,\n",
    "        \"interessen\": [\"Mathe\", \"Coding\"]\n",
    "    }\n",
    "    return jsonify(daten)\n",
    "\n",
    "\n",
    "if __name__ == '__main__':\n",
    "    app.run(host='0.0.0.0', port=12346)  # Server starten\n",
    "\n",
    "# Hinweis: rufe im Browser http://localhost:12346/daten auf."
   ]
  },
  {
   "cell_type": "markdown",
   "metadata": {},
   "source": [
    "## Zusammenfassung\n",
    "\n",
    "- JSON ist ein standardisiertes Format zum Austausch von Daten.\n",
    "- In Python nutzt man das `json`-Modul zur Umwandlung zwischen JSON und Python-Datenstrukturen.\n",
    "- In Flask verwendet man `jsonify`, um JSON-Antworten über HTTP bereitzustellen.\n"
   ]
  }
 ],
 "metadata": {
  "kernelspec": {
   "display_name": "Python 3",
   "language": "python",
   "name": "python3"
  },
  "language_info": {
   "codemirror_mode": {
    "name": "ipython",
    "version": 3
   },
   "file_extension": ".py",
   "mimetype": "text/x-python",
   "name": "python",
   "nbconvert_exporter": "python",
   "pygments_lexer": "ipython3",
   "version": "3.11.4"
  }
 },
 "nbformat": 4,
 "nbformat_minor": 5
}
