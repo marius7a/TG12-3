{
 "cells": [
  {
   "cell_type": "markdown",
   "id": "5d64ef1d",
   "metadata": {},
   "source": [
    "# Flask"
   ]
  },
  {
   "cell_type": "markdown",
   "id": "3b3409ca",
   "metadata": {},
   "source": [
    "## Request\n",
    "In Flask ist `request` kein normale Variable, sondern ein sogenannte “Kontext-gebundenes Proxy-Objekt” (engl. context-local proxy).\n",
    "\n",
    "Das bedeutet: Die Methode, die per `route` die Anfrage erhält, kann über `request` auf die Daten der Anfrage zugreifen:\n",
    "\n",
    "| Attribut           | Beschreibung |\n",
    "|--------------------|---------------|\n",
    "| `request.method`   | Gibt die HTTP-Methode der Anfrage zurück, z. B. `\"GET\"`, `\"POST\"`, `\"PUT\"`, `\"DELETE\"`. |\n",
    "| `request.args`     | Enthält die URL-Parameter (Query-Parameter) als Dictionary, z. B. bei `/page?name=Max`. |\n",
    "| `request.form`     | Beinhaltet Formulardaten, die per `POST` mit `application/x-www-form-urlencoded` gesendet wurden. |\n",
    "| `request.json`     | Liefert ein Dictionary der JSON-Daten im Request-Body, wenn der Client JSON sendet. |\n",
    "| `request.data`     | Gibt den rohen Body der Anfrage als Byte-String zurück (z. B. wenn kein JSON-Format). |\n",
    "| `request.headers`  | Ermöglicht Zugriff auf alle HTTP-Header der Anfrage. |\n",
    "| `request.cookies`  | Beinhaltet alle gesendeten Cookies als Dictionary. |\n",
    "| `request.path`     | Zeigt den angefragten Pfad der URL, z. B. `\"/message\"`. |\n",
    "| `request.url`      | Gibt die vollständige URL der Anfrage zurück. |\n",
    "| `request.remote_addr` | Enthält die IP-Adresse des Clients, der die Anfrage gesendet hat. |\n",
    "\n"
   ]
  },
  {
   "cell_type": "markdown",
   "id": "a30e7fb5",
   "metadata": {},
   "source": [
    "## <font color=red >Übung</font> \n",
    "Erweitere die Methode `handle_message`im Modul `client.py`. Gebe alle Attributwerte auf der Konsole aus."
   ]
  }
 ],
 "metadata": {
  "language_info": {
   "name": "python"
  }
 },
 "nbformat": 4,
 "nbformat_minor": 5
}
