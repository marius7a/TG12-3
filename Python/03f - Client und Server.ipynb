{
  "cells": [
    {
      "cell_type": "markdown",
      "source": [
        "# Flask & Pydantic: Auto-Server und Client"
      ],
      "metadata": {},
      "id": "5dc7b6c4"
    },
    {
      "cell_type": "markdown",
      "source": [
        "\n",
        "Dieses Notebook zeigt, wie ein **Flask-Server** mit **Pydantic** Daten überprüft und wie ein **Python-Client** mit dem Modul `requests` Daten an den Server sendet.\n",
        "\n",
        "Ziel ist es, ein Auto-Objekt zu erstellen und sicherzustellen, dass alle Eingaben gültig sind.\n"
      ],
      "metadata": {},
      "id": "958b5411"
    },
    {
      "cell_type": "markdown",
      "source": [
        "## Server: `handle_auto()`"
      ],
      "metadata": {},
      "id": "d00699f8"
    },
    {
      "cell_type": "markdown",
      "source": [
        "\n",
        "Der Server empfängt JSON-Daten, erstellt ein `Auto`-Objekt und prüft diese mit **Pydantic**.  \n",
        "Bei gültigen Daten sendet er eine Erfolgsnachricht (HTTP 201), bei fehlerhaften eine Fehlermeldung (HTTP 400).\n"
      ],
      "metadata": {},
      "id": "e476ef44"
    },
    {
      "cell_type": "code",
      "source": [
        "\n",
        "from flask import Flask, request, jsonify\n",
        "from pydantic import BaseModel, Field, ValidationError\n",
        "\n",
        "app = Flask(__name__)\n",
        "\n",
        "# Pydantic-Modell\n",
        "class Auto(BaseModel):\n",
        "    marke: str = Field(..., min_length=2, description=\"Name der Automarke\")\n",
        "    ps: int = Field(..., ge=50, le=1000, description=\"Leistung in PS (50–1000)\")\n",
        "    verbrauch: float = Field(..., ge=0, le=20, description=\"Verbrauch in Litern pro 100 km\")\n",
        "\n",
        "    model_config = {\"validate_assignment\": True}\n",
        "\n",
        "@app.route(\"/auto\", methods=[\"POST\"])\n",
        "def handle_auto():\n",
        "    \"\"\"Erstellt ein neues Auto aus JSON-Daten und prüft es mit Pydantic.\"\"\"\n",
        "    try:\n",
        "        data = request.get_json()\n",
        "        auto = Auto(**data)\n",
        "        return jsonify({\n",
        "            \"status\": \"ok\",\n",
        "            \"message\": \"Auto erfolgreich erstellt\",\n",
        "            \"auto\": auto.model_dump()\n",
        "        }), 201\n",
        "    except ValidationError as e:\n",
        "        return jsonify({\n",
        "            \"status\": \"error\",\n",
        "            \"message\": \"Validierung fehlgeschlagen\",\n",
        "            \"details\": e.errors()\n",
        "        }), 400\n",
        "\n",
        "# Hinweis: Zum Starten außerhalb des Notebooks ausführen:\n",
        "# if __name__ == \"__main__\":\n",
        "#     app.run(debug=True)\n"
      ],
      "outputs": [],
      "execution_count": null,
      "metadata": {},
      "id": "41a4cd57"
    },
    {
      "cell_type": "markdown",
      "source": [
        "## Client: Daten an den Server senden"
      ],
      "metadata": {},
      "id": "d3866db2"
    },
    {
      "cell_type": "markdown",
      "source": [
        "\n",
        "Der Client sendet über `requests.post()` ein JSON-Objekt an den Endpunkt `/auto`.  \n",
        "Der Server validiert die Daten und gibt eine Erfolgsmeldung oder einen Fehler zurück.\n"
      ],
      "metadata": {},
      "id": "fec3d686"
    },
    {
      "cell_type": "code",
      "source": [
        "\n",
        "import requests\n",
        "import json\n",
        "\n",
        "URL = \"http://127.0.0.1:5000/auto\"\n",
        "\n",
        "# 🚗 Beispiel-Daten\n",
        "auto_daten = {\n",
        "    \"marke\": \"Audi\",\n",
        "    \"ps\": 150,\n",
        "    \"verbrauch\": 6.5\n",
        "}\n",
        "\n",
        "response = requests.post(URL, json=auto_daten)\n",
        "print(\"Statuscode:\", response.status_code)\n",
        "\n",
        "if response.status_code == 201:\n",
        "    print(\"✅ Auto erfolgreich erstellt:\")\n",
        "    print(json.dumps(response.json(), indent=4, ensure_ascii=False))\n",
        "else:\n",
        "    print(\"❌ Fehler bei der Erstellung:\")\n",
        "    print(json.dumps(response.json(), indent=4, ensure_ascii=False))\n"
      ],
      "outputs": [],
      "execution_count": null,
      "metadata": {},
      "id": "3580837f"
    },
    {
      "cell_type": "markdown",
      "source": [
        "## ⚠️ Fehlerbeispiele"
      ],
      "metadata": {},
      "id": "8f5cff30"
    },
    {
      "cell_type": "markdown",
      "source": [
        "\n",
        "Hier werden absichtlich falsche Daten geschickt, um zu zeigen, wie Pydantic automatisch eine **ValidationError**-Meldung erzeugt.\n"
      ],
      "metadata": {},
      "id": "3aec1930"
    },
    {
      "cell_type": "code",
      "source": [
        "\n",
        "# Ungültige Daten (zu hohe PS und negativer Verbrauch)\n",
        "fehler_daten = {\n",
        "    \"marke\": \"VW\",\n",
        "    \"ps\": 2000,\n",
        "    \"verbrauch\": -5\n",
        "}\n",
        "\n",
        "response = requests.post(URL, json=fehler_daten)\n",
        "print(\"Statuscode:\", response.status_code)\n",
        "print(json.dumps(response.json(), indent=4, ensure_ascii=False))\n"
      ],
      "outputs": [],
      "execution_count": null,
      "metadata": {},
      "id": "ac763c35"
    },
    {
      "cell_type": "markdown",
      "source": [
        "\n",
        "## 🧠 Fazit\n",
        "\n",
        "| Schritt | Aufgabe | Werkzeug |\n",
        "|----------|----------|-----------|\n",
        "| 1 | Server empfängt Daten | `Flask` |\n",
        "| 2 | Validierung der Daten | `Pydantic` |\n",
        "| 3 | Rückgabe bei Erfolg oder Fehler | HTTP 201 / 400 |\n",
        "| 4 | Client sendet Daten | `requests.post()` |\n",
        "| 5 | Ergebnis anzeigen | `response.json()` |\n",
        "\n",
        "➡️ So entsteht ein vollständiger **Client-Server-Datenaustausch** mit **Pydantic-Validierung** am Beispiel eines **Autos**.\n"
      ],
      "metadata": {},
      "id": "bf66c0ce"
    },
    {
      "cell_type": "markdown",
      "source": [
        "## <font color=red >Übung</font> \n",
        "1. Erstelle das Modul `client2`\n",
        "\n",
        "  - Frage die Daten eines Spielers von der Konsole ab und erzeuge daraus ein Spielerobjekt.\n",
        "  - Übertrage das Spielerobjekt als JSON an den Server.\n",
        "  - Gib die Antwort des Servers auf der Konsole aus.\n",
        "\n",
        "2. Erweitere das Modul `server`\n",
        "\n",
        "  - Erstelle eine neue Route `/spieler` zu einer neuen Methode `handle_spieler`.\n",
        "  - Erzeuge aus den empfangenen Daten ein Objekt vom Typ Spieler\n",
        "  - Gib die Daten des Spielers als JSON als Antwort an den Client zurück\n",
        "  "
      ],
      "metadata": {},
      "id": "681eee49"
    }
  ],
  "metadata": {
    "language_info": {
      "codemirror_mode": {
        "name": "python",
        "version": 3
      },
      "file_extension": ".py",
      "mimetype": "text/x-python",
      "name": "python",
      "nbconvert_exporter": "python",
      "pygments_lexer": "ipython3",
      "version": "3.8"
    },
    "kernelspec": {
      "name": "python",
      "language": "python",
      "display_name": "Pyolite (preview)"
    },
    "kernel_info": {
      "name": "python"
    },
    "nteract": {
      "version": "nteract-front-end@1.0.0"
    }
  },
  "nbformat": 4,
  "nbformat_minor": 5
}