{
  "cells": [
    {
      "cell_type": "markdown",
      "source": [
        "# Pydantic & JSON: Spieler speichern und laden"
      ],
      "metadata": {},
      "id": "2bca5ff8"
    },
    {
      "cell_type": "markdown",
      "source": [
        "\n",
        "Dieses Notebook zeigt, wie man mit **Pydantic** Objekte in **JSON-Dateien speichert** und später wieder **einliest**, um sie weiterzuverwenden.  "
      ],
      "metadata": {},
      "id": "8af12549"
    },
    {
      "cell_type": "markdown",
      "source": [
        "## Schritt 1: Spieler-Klasse mit Pydantic definieren"
      ],
      "metadata": {},
      "id": "84aad401"
    },
    {
      "cell_type": "code",
      "source": [
        "\n",
        "from pydantic import BaseModel, Field\n",
        "\n",
        "class Spieler(BaseModel):\n",
        "    name: str = Field(..., min_length=2)\n",
        "    staerke: int = Field(..., ge=0, le=100)\n",
        "    torschuss: int = Field(..., ge=0, le=10)\n",
        "\n",
        "# Beispiel-Objekte\n",
        "spieler1 = Spieler(name=\"Max\", staerke=85, torschuss=9)\n",
        "spieler2 = Spieler(name=\"Anna\", staerke=92, torschuss=8)\n",
        "\n",
        "spieler_liste = [spieler1, spieler2]\n",
        "spieler_liste\n"
      ],
      "outputs": [],
      "execution_count": null,
      "metadata": {},
      "id": "fe8b6546"
    },
    {
      "cell_type": "markdown",
      "source": [
        "## Schritt 2: Spieler in einer Datei speichern"
      ],
      "metadata": {},
      "id": "a2745f80"
    },
    {
      "cell_type": "code",
      "source": [
        "\n",
        "import json\n",
        "\n",
        "with open(\"spieler.json\", \"w\", encoding=\"utf-8\") as f:\n",
        "    json.dump([s.model_dump() for s in spieler_liste], f, ensure_ascii=False, indent=4)\n",
        "\n",
        "print(\"✅ Spieler wurden in 'spieler.json' gespeichert.\")\n"
      ],
      "outputs": [],
      "execution_count": null,
      "metadata": {},
      "id": "f64c0bee"
    },
    {
      "cell_type": "markdown",
      "source": [
        "## Inhalt der gespeicherten Datei"
      ],
      "metadata": {},
      "id": "eb8d579a"
    },
    {
      "cell_type": "code",
      "source": [
        "\n",
        "with open(\"spieler.json\", \"r\", encoding=\"utf-8\") as f:\n",
        "    print(f.read())\n"
      ],
      "outputs": [],
      "execution_count": null,
      "metadata": {},
      "id": "59493458"
    },
    {
      "cell_type": "markdown",
      "source": [
        "## Schritt 3: Spieler aus der Datei wieder einlesen (mit Dateiprüfung)"
      ],
      "metadata": {},
      "id": "ab807e4d"
    },
    {
      "cell_type": "code",
      "source": [
        "\n",
        "import os\n",
        "\n",
        "dateiname = \"spieler.json\"\n",
        "\n",
        "if os.path.exists(dateiname):\n",
        "    with open(dateiname, \"r\", encoding=\"utf-8\") as f:\n",
        "        daten = json.load(f)\n",
        "    geladene_spieler = [Spieler(**s) for s in daten]\n",
        "    print(\"📂 Geladene Spieler:\")\n",
        "    for s in geladene_spieler:\n",
        "        print(s)\n",
        "else:\n",
        "    print(f\"⚠️ Datei '{dateiname}' wurde nicht gefunden.\")\n",
        "    print(\"Es wird eine leere Spielerliste erstellt.\")\n",
        "    geladene_spieler = []\n"
      ],
      "outputs": [],
      "execution_count": null,
      "metadata": {},
      "id": "fad2ced1"
    },
    {
      "cell_type": "markdown",
      "source": [
        "\n",
        "## Fazit\n",
        "\n",
        "| Ziel | Methode |\n",
        "|------|----------|\n",
        "| Objekt speichern | `model_dump()` + `json.dump()` |\n",
        "| Objekt laden | `json.load()` + `Spieler(**daten)` |\n",
        "| Datei prüfen | `os.path.exists()` |\n",
        "| Direkt JSON-Text | `model_dump_json()` |\n",
        "| Vorteil | Keine Abstürze bei fehlender Datei und automatische Validierung |\n",
        "\n",
        "➡️ Mit Pydantic lassen sich Daten **einfach speichern, prüfen und wiederverwenden** – ideal für Client-Server-Projekte!\n"
      ],
      "metadata": {},
      "id": "45e06888"
    },
    {
      "cell_type": "markdown",
      "source": [
        "## <font color=red >Übung</font>\n",
        "Erweitere den Server: der Server soll die Daten sicher speichern und bei Neustart wieder zur Verfügung haben.\n",
        "Beschreibe deine Lösungsstrategie und setze diese um."
      ],
      "metadata": {},
      "id": "18af1aa2"
    }
  ],
  "metadata": {
    "language_info": {
      "codemirror_mode": {
        "name": "python",
        "version": 3
      },
      "file_extension": ".py",
      "mimetype": "text/x-python",
      "name": "python",
      "nbconvert_exporter": "python",
      "pygments_lexer": "ipython3",
      "version": "3.8"
    },
    "kernelspec": {
      "name": "python",
      "language": "python",
      "display_name": "Pyolite (preview)"
    },
    "kernel_info": {
      "name": "python"
    },
    "nteract": {
      "version": "nteract-front-end@1.0.0"
    }
  },
  "nbformat": 4,
  "nbformat_minor": 5
}